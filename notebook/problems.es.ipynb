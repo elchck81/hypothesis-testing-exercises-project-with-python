{
 "cells": [
  {
   "cell_type": "markdown",
   "id": "d9d036c6",
   "metadata": {},
   "source": [
    "# Problemas de prueba de hipótesis"
   ]
  },
  {
   "cell_type": "markdown",
   "id": "d157c4db",
   "metadata": {},
   "source": [
    "## Ejercicio 1\n",
    "\n",
    "Usted es un nutricionista que investiga dos tipos diferentes de dietas para ver si existe una diferencia significativa en la pérdida de peso después de un mes. Eliges dos grupos aleatorios de personas; un grupo sigue la primera dieta y el otro sigue la segunda. Al final del mes, se registra la pérdida de peso (en kg) de cada persona:\n",
    "\n",
    "| Diet 1 | Diet 2 |\n",
    "|:-------|:-------|\n",
    "| 2.0 | 3.0 |\n",
    "| 2.5 | 3.2 |\n",
    "| 3.0 | 3.1 |\n",
    "| 2.8 | 2.9 |\n",
    "| 2.3 | 2.8 |\n",
    "| 2.7 | 3.0 |\n",
    "| 2.5 | 3.2 |\n",
    "\n",
    "Con estos datos se busca responder a la siguiente pregunta: ¿Existe una diferencia significativa en la pérdida de peso promedio entre las personas que siguieron la primera dieta y las que siguieron la segunda dieta?\n",
    "\n",
    "Para sacar conclusiones, siga los siguientes puntos:\n",
    "\n",
    "-Enunciar la hipótesis: hipótesis nula y alternativa.\n",
    "-Realizar la prueba para comprobar la hipótesis. Puede utilizar la prueba t de Student.\n",
    "-Analizar las conclusiones."
   ]
  },
  {
   "cell_type": "markdown",
   "id": "67048aa4",
   "metadata": {},
   "source": [
    "H0 = No existe diferencia significativa entre la pérdida de peso entre la dieta 1 y la dieta 2  \n",
    "H1 = Existe diferencia significativa entre la pérdida de peso entre la dieta 1 y la dieta 2"
   ]
  },
  {
   "cell_type": "code",
   "execution_count": 5,
   "id": "7a354c44",
   "metadata": {},
   "outputs": [
    {
     "name": "stdout",
     "output_type": "stream",
     "text": [
      "Estadístico t: -3.5383407969933938\n",
      "P-valor: 0.004083270191713912\n",
      "Se rechaza la hipótesis nula; existe una diferencia significativa entre las medias de las perdida de peso entre las dietas 1 y 2.\n"
     ]
    }
   ],
   "source": [
    "import numpy as np\n",
    "from scipy import stats\n",
    "\n",
    "dieta1 = [2.0,2.5, 3.0, 2.8, 2.3,2.7, 2.5]\n",
    "dieta2 = [3.0, 3.2, 3.1, 2.9, 2.8,3.0,3.2]\n",
    "\n",
    "# Realizar la prueba t de dos muestras independientes\n",
    "statistic, p_value = stats.ttest_ind(dieta1, dieta2)\n",
    "\n",
    "print(f\"Estadístico t: {statistic}\")\n",
    "print(f\"P-valor: {p_value}\")\n",
    "\n",
    "# Interpretación básica\n",
    "alpha = 0.05\n",
    "if p_value < alpha:\n",
    "    print(\"Se rechaza la hipótesis nula; existe una diferencia significativa entre las medias de las perdida de peso entre las dietas 1 y 2.\")\n",
    "else:\n",
    "    print(\"No hay suficiente evidencia para rechazar la hipótesis nula. No hay diferencia comprobable entre las medias de perdida de peso entre las dietas 1 y 2\")"
   ]
  },
  {
   "cell_type": "markdown",
   "id": "f432e18e",
   "metadata": {},
   "source": [
    "## ANOVA\n",
    "\n",
    "**ANOVA** (*Analysis of Variance - Análisis de variación*) Es una técnica estadística utilizada para comparar las medidas de dos o más grupos. La idea detrás de ANOVA es descomponer la variabilidad total de los datos en dos componentes: variabilidad entre grupos y variabilidad dentro de los grupos:\n",
    "\n",
    "- **Variabilidad entre grupos**: Esta variabilidad se refiere a las diferencias entre las medias del grupo. Si esta variabilidad es considerablemente mayor que la variabilidad dentro del grupo, podría ser una indicación de que al menos una de las medias del grupo es diferente.\n",
    "- **Variabilidad dentro del grupo**: Esta variabilidad se refiere a la dispersión de los datos dentro de cada grupo. Si todos los grupos tienen una variabilidad similar, entonces cualquier diferencia notable en las medias de los grupos podría considerarse significativa.\n",
    "\n",
    "Las hipótesis en ANOVA suelen incluir:\n",
    "\n",
    "- **Hipótesis nula** ($H₀$): Las medias de todos los grupos son iguales.\n",
    "- **Hipótesis alternativa** ($H₁$): Al menos una de las medias del grupo es diferente.\n",
    "\n",
    "Si el resultado de la prueba ANOVA es significativo (por ejemplo, un valor p inferior a un umbral como 0,05), esto sugiere que al menos la media de un grupo es diferente."
   ]
  },
  {
   "cell_type": "markdown",
   "id": "fc5f3721",
   "metadata": {},
   "source": [
    "## Ejercicio 2\n",
    "\n",
    "Un agricultor decide probar tres tipos diferentes de fertilizantes para determinar si alguno es superior en términos de producción de maíz. El agricultor planta maíz en 15 parcelas idénticas y utiliza los tres fertilizantes (5 parcelas para cada tipo). Al final de la temporada mide el rendimiento de maíz (en kg) de cada parcela, con el siguiente resultado:\n",
    "\n",
    "| Fertilizante 1 | Fertilizante 2 | Fertilizante 3 |\n",
    "|:-------------|:-------------|:-------------|\n",
    "| 20 | 22 | 24 |\n",
    "| 21 | 21 | 23 |\n",
    "| 20 | 23 | 22 |\n",
    "| 19 | 22 | 23 |\n",
    "| 20 | 21 | 24 |\n",
    "\n",
    "Con estos datos busca responder la siguiente pregunta: ¿Existe una diferencia significativa en el rendimiento promedio del maíz entre los tres tipos de fertilizantes?\n",
    "\n",
    "Para ayudarte, sigue los siguientes puntos:\n",
    "\n",
    "-Enunciar la hipótesis: hipótesis nula y alternativa.\n",
    "-Realizar la prueba ANOVA.\n",
    "-Analizar las conclusiones.\n",
    "-Si un fertilizante es mejor que otro, ¿cómo podemos saberlo?"
   ]
  },
  {
   "cell_type": "markdown",
   "id": "1338b3d7",
   "metadata": {},
   "source": [
    "H0 = no hay una diferencia significativa entre la efectividad de los fertilizantes\n",
    "H1 = hay una diferencia significativa en alguno de los tres fertilizantes"
   ]
  },
  {
   "cell_type": "code",
   "execution_count": 9,
   "id": "eecad0ca",
   "metadata": {},
   "outputs": [
    {
     "name": "stdout",
     "output_type": "stream",
     "text": [
      "f-value: 20.31578947368421\n",
      "p-value: 0.000140478247931904\n",
      "Se rechaza la hipótesis nula; existe una diferencia significativa entre alguno de los fertilizantes\n"
     ]
    }
   ],
   "source": [
    "# TODO\n",
    "import scipy.stats as stats\n",
    "\n",
    "fertilizante1 = [20, 21, 20, 19, 20]\n",
    "fertilizante2 = [22, 21, 23, 22, 21]\n",
    "fertilizante3 = [24, 23, 22, 23, 24]\n",
    "\n",
    "# ANOVA test\n",
    "f_value, p_value = stats.f_oneway(fertilizante1, fertilizante2, fertilizante3)\n",
    "\n",
    "print(f\"f-value: {f_value}\")\n",
    "print(f\"p-value: {p_value}\")\n",
    "\n",
    "alpha = 0.05\n",
    "if p_value < alpha:\n",
    "    print(\"Se rechaza la hipótesis nula; existe una diferencia significativa entre alguno de los fertilizantes\")\n",
    "else:\n",
    "    print(\"No hay suficiente evidencia para rechazar la hipótesis nula. No hay diferencia comprobable entre los fertilizantes\")"
   ]
  },
  {
   "cell_type": "code",
   "execution_count": 11,
   "id": "28135332",
   "metadata": {},
   "outputs": [
    {
     "data": {
      "text/plain": [
       "'Fertilizante 1 mean:20.0 var:0.4'"
      ]
     },
     "metadata": {},
     "output_type": "display_data"
    },
    {
     "data": {
      "text/plain": [
       "'Fertilizante 2 mean:21.8 var:0.5599999999999999'"
      ]
     },
     "metadata": {},
     "output_type": "display_data"
    },
    {
     "data": {
      "text/plain": [
       "'Fertilizante 3 mean:23.2 var:0.5599999999999999'"
      ]
     },
     "metadata": {},
     "output_type": "display_data"
    }
   ],
   "source": [
    "display(f\"Fertilizante 1 mean:{np.array(fertilizante1).mean()} var:{np.array(fertilizante1).var()}\")\n",
    "display(f\"Fertilizante 2 mean:{np.array(fertilizante2).mean()} var:{np.array(fertilizante2).var()}\")\n",
    "display(f\"Fertilizante 3 mean:{np.array(fertilizante3).mean()} var:{np.array(fertilizante3).var()}\")"
   ]
  },
  {
   "cell_type": "markdown",
   "id": "6fec97fe",
   "metadata": {},
   "source": [
    "Conclusión, el fertilizante 3 es mas efectivo"
   ]
  }
 ],
 "metadata": {
  "kernelspec": {
   "display_name": "Python 3",
   "language": "python",
   "name": "python3"
  },
  "language_info": {
   "codemirror_mode": {
    "name": "ipython",
    "version": 3
   },
   "file_extension": ".py",
   "mimetype": "text/x-python",
   "name": "python",
   "nbconvert_exporter": "python",
   "pygments_lexer": "ipython3",
   "version": "3.11.4"
  }
 },
 "nbformat": 4,
 "nbformat_minor": 5
}
